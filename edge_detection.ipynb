{
 "cells": [
  {
   "cell_type": "code",
   "execution_count": 12,
   "metadata": {},
   "outputs": [],
   "source": [
    "# import imageio.v3 as iio\n",
    "# import matplotlib.pyplot as plt\n",
    "# import skimage.feature\n",
    "# import sys\n",
    "# sys.argv = [\"10-07_Pictures/20241007-1A.dng\",5,1,50]\n",
    "# filename = sys.argv[1]\n",
    "# sigma = float(sys.argv[2])\n",
    "# low_threshold = float(sys.argv[3])\n",
    "# high_threshold = float(sys.argv[4])\n",
    "# image = iio.imread(uri=filename, mode=\"L\")\n",
    "# plt.imshow(image)\n",
    "# edges = skimage.feature.canny(\n",
    "#     image=image,\n",
    "#     sigma=sigma,\n",
    "#     low_threshold=low_threshold,\n",
    "#     high_threshold=high_threshold,\n",
    "# )"
   ]
  },
  {
   "cell_type": "code",
   "execution_count": 20,
   "metadata": {},
   "outputs": [
    {
     "ename": "TypeError",
     "evalue": "'module' object is not callable",
     "output_type": "error",
     "traceback": [
      "\u001b[0;31m---------------------------------------------------------------------------\u001b[0m",
      "\u001b[0;31mTypeError\u001b[0m                                 Traceback (most recent call last)",
      "Cell \u001b[0;32mIn[20], line 22\u001b[0m\n\u001b[1;32m     19\u001b[0m Gy\u001b[38;5;241m=\u001b[39mnp\u001b[38;5;241m.\u001b[39muint8(\u001b[38;5;241m255\u001b[39m\u001b[38;5;241m*\u001b[39mnp\u001b[38;5;241m.\u001b[39mabs(Gy)\u001b[38;5;241m/\u001b[39mnp\u001b[38;5;241m.\u001b[39mmax(Gy))\n\u001b[1;32m     20\u001b[0m G \u001b[38;5;241m=\u001b[39m np\u001b[38;5;241m.\u001b[39muint8(\u001b[38;5;241m255\u001b[39m\u001b[38;5;241m*\u001b[39mG\u001b[38;5;241m/\u001b[39mnp\u001b[38;5;241m.\u001b[39mmax(G))\n\u001b[0;32m---> 22\u001b[0m \u001b[43mplt\u001b[49m\u001b[38;5;241;43m.\u001b[39;49m\u001b[43mfigure\u001b[49m\u001b[43m(\u001b[49m\u001b[43mfigsize\u001b[49m\u001b[38;5;241;43m=\u001b[39;49m\u001b[43m(\u001b[49m\u001b[38;5;241;43m15\u001b[39;49m\u001b[43m,\u001b[49m\u001b[38;5;241;43m10\u001b[39;49m\u001b[43m)\u001b[49m\u001b[43m)\u001b[49m\n\u001b[1;32m     24\u001b[0m plt\u001b[38;5;241m.\u001b[39msubplot(\u001b[38;5;241m2\u001b[39m,\u001b[38;5;241m2\u001b[39m,\u001b[38;5;241m1\u001b[39m)\n\u001b[1;32m     25\u001b[0m plt\u001b[38;5;241m.\u001b[39mimshow(cv\u001b[38;5;241m.\u001b[39mcvtColor(image,cv\u001b[38;5;241m.\u001b[39mCOLOR_BGR2RGB))\n",
      "\u001b[0;31mTypeError\u001b[0m: 'module' object is not callable"
     ]
    }
   ],
   "source": [
    "import cv2 as cv\n",
    "import numpy as np\n",
    "import matplotlib.pyplot as plt\n",
    "\n",
    "image_path = \"10-07_Pictures/20241007-1A.dng\"\n",
    "image = cv.imread(image_path)\n",
    "\n",
    "gray_image = cv.cvtColor(image, cv.COLOR_BGR2GRAY)\n",
    "\n",
    "blurred_image = cv.GaussianBlur(gray_image,(3,3),0)\n",
    "\n",
    "\n",
    "Gx = cv.Sobel(blurred_image,cv.CV_64F,1,0,ksize=3)\n",
    "Gy = cv.Sobel(blurred_image,cv.CV_64F,0,1,ksize=3)\n",
    "\n",
    "G = np.sqrt(Gx**2+Gy**2)\n",
    "\n",
    "Gx = np.uint8(255*np.abs(Gx)/np.max(Gx))\n",
    "Gy = np.uint8(255*np.abs(Gy)/np.max(Gy))\n",
    "G = np.uint8(255*G/np.max(G))\n",
    "\n",
    "plt.figure(figsize=(15,10))\n",
    "\n",
    "plt.subplot(2,2,1)\n",
    "plt.imshow(cv.cvtColor(image,cv.COLOR_BGR2RGB))\n",
    "plt.title('Original Image')\n",
    "\n",
    "plt.subplot(2,2,2)\n",
    "plt.imshow(Gx,cmap='gray')\n",
    "plt.title('Gradient in the X direction')\n",
    "\n",
    "plt.subplot(2,2,3)\n",
    "plt.imshow(Gy,cmap='gray')\n",
    "plt.title('Gradient in the Y direction')\n",
    "\n",
    "plt.subplot(2,2,4)\n",
    "plt.imshow(G,cmap='gray')\n",
    "plt.title('Edge Detection')\n",
    "\n",
    "plt.show()\n"
   ]
  }
 ],
 "metadata": {
  "kernelspec": {
   "display_name": "venv",
   "language": "python",
   "name": "python3"
  },
  "language_info": {
   "codemirror_mode": {
    "name": "ipython",
    "version": 3
   },
   "file_extension": ".py",
   "mimetype": "text/x-python",
   "name": "python",
   "nbconvert_exporter": "python",
   "pygments_lexer": "ipython3",
   "version": "3.12.7"
  }
 },
 "nbformat": 4,
 "nbformat_minor": 2
}
