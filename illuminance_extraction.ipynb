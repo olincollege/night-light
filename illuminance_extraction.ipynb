{
 "cells": [
  {
   "cell_type": "code",
   "execution_count": 42,
   "metadata": {},
   "outputs": [],
   "source": [
    "import pandas as pd\n",
    "from PIL import Image\n",
    "import glob\n",
    "import cv2 as cv\n",
    "import numpy as np\n",
    "import matplotlib.pyplot as plt"
   ]
  },
  {
   "cell_type": "code",
   "execution_count": 74,
   "metadata": {},
   "outputs": [],
   "source": [
    "lux_readings = pd.read_csv(\"10_7_Data_Collection.csv\", encoding='unicode_escape')\n",
    "lux_readings[\"yuv_average_y\"] = \"\"\n",
    "lux_readings[\"relative_illuminance\"] = \"\"\n",
    "lux_readings[\"lux_average\"] = lux_readings.iloc[:, 2:5].mean(axis=1)"
   ]
  },
  {
   "cell_type": "markdown",
   "metadata": {},
   "source": [
    "#### Convert image into YUV channel and take average of Y (brightness?)"
   ]
  },
  {
   "cell_type": "code",
   "execution_count": 73,
   "metadata": {},
   "outputs": [
    {
     "data": {
      "image/png": "[encoded data removed]",
      "text/plain": [
       "<Figure size 640x480 with 1 Axes>"
      ]
     },
     "metadata": {},
     "output_type": "display_data"
    }
   ],
   "source": [
    "\n",
    "##\n",
    "\n",
    "for filename in glob.iglob(\"2024-10-07/annotated_exports/*\"):\n",
    "    image_id = filename[filename.index('20241007-') + 9:filename.index('.dng')]\n",
    "\n",
    "    if (\"A\" in image_id):\n",
    "        image_id = image_id.replace(\"A\", \"B\")\n",
    "    else:\n",
    "        image_id = image_id.replace(\"B\", \"A\")\n",
    "\n",
    "    img = cv.imread(filename)\n",
    "    img_yuv = cv.cvtColor(img, cv.COLOR_BGR2YUV)\n",
    "    y, u, v = cv.split(img_yuv)\n",
    "\n",
    "    avg_y = np.mean(y)\n",
    "\n",
    "    row_idx = lux_readings.loc[lux_readings[\"ID\"] == image_id].index[0]\n",
    "\n",
    "    lux_readings.loc[row_idx, \"yuv_average_y\"] = avg_y\n",
    "\n",
    "# Plot brightness values against avg lux readings\n",
    "ax1 = lux_readings.plot.scatter(x=\"yuv_average_y\", y=\"lux_average\")"
   ]
  },
  {
   "cell_type": "markdown",
   "metadata": {},
   "source": [
    "#### Getting Illuminance Relative from EXIF\n",
    "https://stackoverflow.com/questions/13866567/calculate-illuminance-from-exif-data"
   ]
  },
  {
   "cell_type": "code",
   "execution_count": 71,
   "metadata": {},
   "outputs": [
    {
     "name": "stdout",
     "output_type": "stream",
     "text": [
      "ExposureTime 0.01\n",
      "FNumber 3.5\n",
      "ISOSpeedRatings 3200\n"
     ]
    }
   ],
   "source": [
    "from PIL import Image\n",
    "from PIL.ExifTags import TAGS, GPSTAGS, IFD\n",
    "from pillow_heif import register_heif_opener\n",
    "import pillow_avif\n",
    "\n",
    "# register_heif_opener()\n",
    "\n",
    "# image = Image.open(\"2024-10-07/annotated_exports/20241007-5A.dng\")\n",
    "# exifdata = image.getexif()\n",
    "\n",
    "# for ifd_id in IFD:\n",
    "#     try:\n",
    "#         ifd = exifdata.get_ifd(ifd_id)\n",
    "\n",
    "#         if ifd_id == IFD.GPSInfo:\n",
    "#             resolve = GPSTAGS\n",
    "#         else:\n",
    "#             resolve = TAGS\n",
    "\n",
    "#         for k, v in ifd.items():\n",
    "#             tag = resolve.get(k, k)\n",
    "#             if tag in [\"FNumber\", \"ExposureTime\", \"ISOSpeedRatings\"]:\n",
    "#                 print(tag, v)\n",
    "#     except KeyError:\n",
    "#         pass"
   ]
  },
  {
   "cell_type": "code",
   "execution_count": 75,
   "metadata": {},
   "outputs": [
    {
     "ename": "SyntaxError",
     "evalue": "invalid syntax (1723450466.py, line 17)",
     "output_type": "error",
     "traceback": [
      "\u001b[0;36m  Cell \u001b[0;32mIn[75], line 17\u001b[0;36m\u001b[0m\n\u001b[0;31m    lux =\u001b[0m\n\u001b[0m          ^\u001b[0m\n\u001b[0;31mSyntaxError\u001b[0m\u001b[0;31m:\u001b[0m invalid syntax\n"
     ]
    }
   ],
   "source": [
    "## FNumber: 3.5\n",
    "## ExposureTime: 0.01\n",
    "## ISOSpeedRatings: 3200\n",
    "\n",
    "# f_number = 3.5\n",
    "# exposure_time = 0.01\n",
    "# iso_speed_ratings = 3200\n",
    "\n",
    "for filename in glob.iglob(\"2024-10-07/annotated_exports/*\"):\n",
    "    image_id = filename[filename.index('20241007-') + 9:filename.index('.dng')]\n",
    "\n",
    "    if (\"A\" in image_id):\n",
    "        image_id = image_id.replace(\"A\", \"B\")\n",
    "    else:\n",
    "        image_id = image_id.replace(\"B\", \"A\")\n",
    "\n",
    "    # lux = (f_number * f_number / (exposure_time * iso_speed_ratings))\n",
    "\n",
    "\n",
    "\n",
    "    # img = cv.imread(filename)\n",
    "    # img_yuv = cv.cvtColor(img, cv.COLOR_BGR2YUV)\n",
    "    # y, u, v = cv.split(img_yuv)\n",
    "\n",
    "    # avg_y = np.mean(y)\n",
    "\n",
    "    # row_idx = lux_readings.loc[lux_readings[\"ID\"] == image_id].index[0]\n",
    "\n",
    "    lux_readings.loc[row_idx, \"yuv_average_y\"] = avg_y"
   ]
  }
 ],
 "metadata": {
  "kernelspec": {
   "display_name": "nightlight-env",
   "language": "python",
   "name": "python3"
  },
  "language_info": {
   "codemirror_mode": {
    "name": "ipython",
    "version": 3
   },
   "file_extension": ".py",
   "mimetype": "text/x-python",
   "name": "python",
   "nbconvert_exporter": "python",
   "pygments_lexer": "ipython3",
   "version": "3.12.7"
  }
 },
 "nbformat": 4,
 "nbformat_minor": 2
}
